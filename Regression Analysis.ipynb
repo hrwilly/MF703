{
 "cells": [
  {
   "cell_type": "code",
   "execution_count": 1,
   "id": "05d47fdd-b93e-4475-b0f1-4f7bffdc7b31",
   "metadata": {},
   "outputs": [],
   "source": [
    "import pandas as pd"
   ]
  },
  {
   "cell_type": "code",
   "execution_count": 23,
   "id": "2f3f8657-1c54-4c0c-881b-6f37ec0ba923",
   "metadata": {},
   "outputs": [
    {
     "name": "stderr",
     "output_type": "stream",
     "text": [
      "C:\\Users\\hanna\\AppData\\Local\\Temp\\ipykernel_16576\\2993569896.py:4: FutureWarning: Dropping of nuisance columns in rolling operations is deprecated; in a future version this will raise TypeError. Select only valid columns before calling the operation. Dropped columns were Index(['Unnamed: 0'], dtype='object')\n",
      "  ret_6 = shifted.rolling(6, min_periods=1).sum()\n"
     ]
    }
   ],
   "source": [
    "ret = pd.read_csv('variable_results/monthly_returns.csv')\n",
    "shifted = ret.shift(1)\n",
    "\n",
    "ret_6 = shifted.rolling(6, min_periods=1).sum()\n",
    "ret_6['Date'] = ret['Unnamed: 0']\n",
    "ret_6 = ret_6.set_index('Date')"
   ]
  },
  {
   "cell_type": "code",
   "execution_count": 24,
   "id": "20c8292d-6dee-4305-b79b-f3acc826746a",
   "metadata": {},
   "outputs": [
    {
     "name": "stdout",
     "output_type": "stream",
     "text": [
      "                 AAL      AAOI      AAON      AAPL      ACAD      ACHC  \\\n",
      "Date                                                                     \n",
      "2011-01-31       NaN       NaN       NaN       NaN       NaN       NaN   \n",
      "2011-02-28  0.005041       NaN  0.006684  0.005835 -0.011765  0.023256   \n",
      "2011-03-31 -0.000767       NaN  0.005707  0.012234 -0.018387  0.023256   \n",
      "2011-04-30  0.041713       NaN  0.002363  0.019694  0.055687  0.023256   \n",
      "2011-05-31  0.058215       NaN  0.005103  0.018580  0.073869  0.039785   \n",
      "...              ...       ...       ...       ...       ...       ...   \n",
      "2023-06-30 -0.006824 -0.056800 -0.000771 -0.007097  0.010186  0.007553   \n",
      "2023-07-31 -0.026220 -0.033758 -0.014437 -0.010771 -0.033980 -0.006994   \n",
      "2023-08-31 -0.032562 -0.023908 -0.012423 -0.009622 -0.030485 -0.005106   \n",
      "2023-09-30 -0.024681  0.002672 -0.000367  0.002936 -0.029766 -0.000589   \n",
      "2023-10-31 -0.006746  0.037081 -0.005818  0.006814 -0.029525 -0.018065   \n",
      "\n",
      "                ACIW      ACLS      ADBE      ADEA  ...       ZBH       ZTS  \\\n",
      "Date                                                ...                       \n",
      "2011-01-31       NaN       NaN       NaN       NaN  ...       NaN       NaN   \n",
      "2011-02-28  0.004153  0.011527  0.006051 -0.002310  ...  0.003212       NaN   \n",
      "2011-03-31  0.009582  0.022436  0.012718 -0.000587  ...  0.019092       NaN   \n",
      "2011-04-30  0.012936  0.026210  0.023876  0.000508  ...  0.024709       NaN   \n",
      "2011-05-31  0.022318  0.047600  0.027751  0.011135  ...  0.030993       NaN   \n",
      "...              ...       ...       ...       ...  ...       ...       ...   \n",
      "2023-06-30  0.018709  0.035336 -0.018164 -0.000004  ... -0.000989  0.009015   \n",
      "2023-07-31  0.006557  0.022085 -0.034268 -0.017350  ... -0.005778 -0.015138   \n",
      "2023-08-31  0.002603 -0.007634 -0.034091 -0.016174  ... -0.066220 -0.018246   \n",
      "2023-09-30 -0.014917 -0.009997 -0.023866 -0.000028  ... -0.055083  0.000894   \n",
      "2023-10-31 -0.012533  0.003560 -0.015471  0.006334  ... -0.059895 -0.005692   \n",
      "\n",
      "                 ZWS           EVI      GSAT       NHC       REI      REPX  \\\n",
      "Date                                                                         \n",
      "2011-01-31       NaN           NaN       NaN       NaN       NaN       NaN   \n",
      "2011-02-28       NaN  2.371206e-07  0.000000  0.000678 -0.005525  0.011236   \n",
      "2011-03-31       NaN  4.964580e-02  0.000000  0.007611 -0.005525  0.096602   \n",
      "2011-04-30       NaN  1.314946e-02  0.000000  0.007611 -0.005525  0.122243   \n",
      "2011-05-31       NaN  1.314948e-02  0.000000  0.005459 -0.005525  0.122243   \n",
      "...              ...           ...       ...       ...       ...       ...   \n",
      "2023-06-30  0.001309 -1.749243e-02  0.033770 -0.002161  0.072779  0.042187   \n",
      "2023-07-31 -0.022173 -6.204206e-02  0.037251 -0.006686  0.084475  0.052842   \n",
      "2023-08-31 -0.015885 -9.202290e-02  0.011640  0.002404  0.076315  0.055204   \n",
      "2023-09-30 -0.003818 -5.545031e-02  0.022057  0.008404  0.099067  0.051000   \n",
      "2023-10-31 -0.017645 -8.310842e-02  0.023044  0.004104  0.020119  0.000343   \n",
      "\n",
      "                 SEB      TELL  \n",
      "Date                            \n",
      "2011-01-31       NaN       NaN  \n",
      "2011-02-28  0.003996  0.034091  \n",
      "2011-03-31 -0.004279  0.037795  \n",
      "2011-04-30  0.000693  0.054323  \n",
      "2011-05-31  0.002788  0.050104  \n",
      "...              ...       ...  \n",
      "2023-06-30  0.008796  0.067559  \n",
      "2023-07-31  0.019481  0.067559  \n",
      "2023-08-31  0.018812  0.050906  \n",
      "2023-09-30  0.023901  0.053123  \n",
      "2023-10-31  0.014311  0.004343  \n",
      "\n",
      "[154 rows x 1271 columns]\n"
     ]
    }
   ],
   "source": [
    "print(ret_6)"
   ]
  },
  {
   "cell_type": "code",
   "execution_count": null,
   "id": "0e9c8e8a-2209-4cd6-9c47-21bda1408cb9",
   "metadata": {},
   "outputs": [],
   "source": []
  }
 ],
 "metadata": {
  "kernelspec": {
   "display_name": "Python 3 (ipykernel)",
   "language": "python",
   "name": "python3"
  },
  "language_info": {
   "codemirror_mode": {
    "name": "ipython",
    "version": 3
   },
   "file_extension": ".py",
   "mimetype": "text/x-python",
   "name": "python",
   "nbconvert_exporter": "python",
   "pygments_lexer": "ipython3",
   "version": "3.10.13"
  }
 },
 "nbformat": 4,
 "nbformat_minor": 5
}
