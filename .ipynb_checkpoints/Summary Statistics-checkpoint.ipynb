{
 "cells": [
  {
   "cell_type": "code",
   "execution_count": 46,
   "id": "7837e9bd",
   "metadata": {},
   "outputs": [],
   "source": [
    "import pandas as pd\n",
    "import numpy as np\n",
    "import statsmodels.api as sm"
   ]
  },
  {
   "cell_type": "code",
   "execution_count": 45,
   "id": "c1eec80c",
   "metadata": {},
   "outputs": [],
   "source": [
    "ab_pos = pd.read_csv('variable_results/abnormal_positive_ratio.csv')\n",
    "ab_neg = pd.read_csv('variable_results/abnormal_negative_ratio.csv')\n",
    "pos = pd.read_csv('variable_results/positive_ratio.csv')\n",
    "neg = pd.read_csv('variable_results/negative_ratio.csv')\n",
    "\n",
    "variables = ['NR', 'ABNR', 'PR', 'ABPR']\n",
    "ab_pos = ab_pos.set_index('Date')\n",
    "ab_pos_lag = ab_pos[ab_pos.index <= '2021-12-31']\n",
    "ab_pos_lead = ab_pos.iloc[1:(len(ab_pos_lag)+1)]\n",
    "\n",
    "ab_neg = ab_neg.set_index('Date')\n",
    "ab_neg_lag = ab_neg[ab_neg.index <= '2021-12-31']\n",
    "ab_neg_lead = ab_neg.iloc[1:(len(ab_neg_lag)+1)]\n",
    "\n",
    "pos = pos.set_index('Date')\n",
    "pos_lag = pos[pos.index <= '2021-12-31']\n",
    "pos_lead = pos.iloc[1:(len(pos_lag)+1)]\n",
    "\n",
    "neg = neg.set_index('Date')\n",
    "neg_lag = neg[neg.index <= '2021-12-31']\n",
    "neg_lead = neg.iloc[1:(len(neg_lag)+1)]\n",
    "\n",
    "ab_pos_means = ab_pos_lag.mean()\n",
    "ab_neg_means = ab_neg_lag.mean()\n",
    "pos_means = pos_lag.mean()\n",
    "neg_means = neg_lag.mean()\n",
    "\n",
    "def summary_stats(df):\n",
    "    \n",
    "    column_stats = pd.DataFrame([df.mean(), df.std(), df.skew(), df.kurt(), df.min(), df.quantile(0.01), df.quantile(0.05), df.quantile(0.1), df.quantile(0.25), df.quantile(0.5), df.quantile(0.75), df.quantile(0.9), df.quantile(0.95), df.quantile(0.99), df.max()])\n",
    "    column_stats.index = ['Mean', 'SD', 'Skew', 'Kurt', 'Min', '1%', '5%', '10%', '25%', 'Median', '75%', '90%', '95%', '99%', 'Max']\n",
    "    \n",
    "    return column_stats\n",
    "\n",
    "summary_stats = pd.concat([summary_stats(neg_means), summary_stats(ab_neg_means), summary_stats(pos_means), summary_stats(ab_pos_means)], keys = variables, axis=1).transpose()\n",
    "summary_stats.index = summary_stats.index.droplevel(1)\n",
    "summary_stats.to_csv('summary statistic/table1.csv')\n",
    "\n",
    "ab_pos_means_df = pd.DataFrame(ab_pos_means, columns=['ABPR'])\n",
    "ab_neg_means_df = pd.DataFrame(ab_neg_means, columns=['ABNR'])\n",
    "pos_means_df = pd.DataFrame(pos_means, columns=['PR'])\n",
    "neg_means_df = pd.DataFrame(neg_means, columns=['NR'])\n",
    "\n",
    "lead_ab_pos_means_df = pd.DataFrame(ab_pos_lead.mean(), columns=['Lead_ABPR'])\n",
    "lead_ab_neg_means_df = pd.DataFrame(ab_neg_lead.mean(), columns=['Lead_ABNR'])\n",
    "lead_pos_means_df = pd.DataFrame(pos_lead.mean(), columns=['Lead_R'])\n",
    "lead_neg_means_df = pd.DataFrame(neg_lead.mean(), columns=['Lead_NR'])\n",
    "\n",
    "data_df = pd.concat([neg_means_df, ab_neg_means_df, pos_means_df, ab_pos_means_df, lead_neg_means_df, lead_ab_neg_means_df, lead_pos_means_df, lead_ab_pos_means_df], axis=1)\n",
    "correlation_matrix = data_df.corr()\n",
    "correlation_matrix.to_csv('summary statistic/table2.csv')"
   ]
  }
 ],
 "metadata": {
  "kernelspec": {
   "display_name": "Python 3 (ipykernel)",
   "language": "python",
   "name": "python3"
  },
  "language_info": {
   "codemirror_mode": {
    "name": "ipython",
    "version": 3
   },
   "file_extension": ".py",
   "mimetype": "text/x-python",
   "name": "python",
   "nbconvert_exporter": "python",
   "pygments_lexer": "ipython3",
   "version": "3.10.13"
  }
 },
 "nbformat": 4,
 "nbformat_minor": 5
}
