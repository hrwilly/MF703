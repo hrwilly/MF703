{
 "cells": [
  {
   "cell_type": "code",
   "execution_count": 1,
   "id": "7837e9bd",
   "metadata": {},
   "outputs": [],
   "source": [
    "import pandas as pd\n",
    "import numpy as np\n",
    "from finance_byu import fama_macbeth\n",
    "import warnings\n",
    "warnings.filterwarnings(\"ignore\")"
   ]
  },
  {
   "cell_type": "code",
   "execution_count": 2,
   "id": "1f19af73-3a64-469c-9b72-47d7e568a52a",
   "metadata": {},
   "outputs": [],
   "source": [
    "ab_pos = pd.read_csv('Final Variables/abnormal_positive_ratio.csv', index_col=0)\n",
    "ab_neg = pd.read_csv('Final Variables/abnormal_negative_ratio.csv', index_col=0)"
   ]
  },
  {
   "cell_type": "code",
   "execution_count": 3,
   "id": "d954123d-5530-4746-9a1d-de476221287b",
   "metadata": {},
   "outputs": [],
   "source": [
    "def fama(data, shift_factor, control = []):\n",
    "\n",
    "    future = data.shift(shift_factor)\n",
    "    \n",
    "    comb = []\n",
    "    tickers = data.columns\n",
    "\n",
    "    for i in range(len(tickers)):\n",
    "        data[tickers[i]].index = pd.to_datetime(data[tickers[i]].index)\n",
    "        combined = pd.concat([data[tickers[i]], future[tickers[i]].rename('future')], axis = 1)\n",
    "        if control != []:\n",
    "            combined = pd.concat([combined, control[i]], axis = 1)\n",
    "\n",
    "        comb.append(combined[:shift_factor])\n",
    "\n",
    "    for i in range(len(comb)):\n",
    "        comb[i] = comb[i].reset_index()\n",
    "        comb[i]['index'] = pd.to_datetime(pd.to_datetime(comb[i]['index']).dt.strftime('%Y-%m'))\n",
    "\n",
    "    results = []\n",
    "    tickers = data.columns        \n",
    "\n",
    "    for i in range(len(comb)):\n",
    "        xvar = [tickers[i]]\n",
    "        comb[i] = comb[i].dropna(axis = 1, how = 'all')\n",
    "        comb[i] = comb[i].dropna(axis = 0, how = 'any')\n",
    "        if control != []:\n",
    "            for j in range(3, len(comb[i].columns)):\n",
    "                xvar.append(comb[i].columns[j])\n",
    "        comb[i] = comb[i].dropna(axis = 1, how = 'all')\n",
    "        comb[i] = comb[i].dropna(axis = 0, how = 'any')\n",
    "        results.append(fama_macbeth.fama_macbeth_master(comb[i], t = 'index', yvar = 'future', xvar = xvar, intercept=True))\n",
    "\n",
    "    alpha = []\n",
    "    beta = []\n",
    "    for i in range(len(results)):\n",
    "        alpha.append(results[i]['intercept'])\n",
    "        beta.append(results[i][tickers[i]])\n",
    "\n",
    "    return alpha, beta, results"
   ]
  },
  {
   "cell_type": "code",
   "execution_count": 4,
   "id": "8df2917d-b329-4a7b-a1c2-d401be41c25f",
   "metadata": {},
   "outputs": [],
   "source": [
    "ab_neg.index = pd.to_datetime(ab_neg.index)\n",
    "ab_pos.index = pd.to_datetime(ab_pos.index)\n",
    "ab_neg = ab_neg.reindex(sorted(ab_neg.columns), axis=1)\n",
    "ab_pos = ab_pos.reindex(sorted(ab_pos.columns), axis=1)\n",
    "\n",
    "neg1_alpha, neg1_beta, neg1_results = fama(ab_neg, -1)\n",
    "neg2_alpha, neg2_beta, neg2_results = fama(ab_neg, -2)\n",
    "neg3_alpha, neg3_beta, neg3_results = fama(ab_neg, -3)\n",
    "pos1_alpha, pos1_beta, pos1_results = fama(ab_pos, -1)\n",
    "pos2_alpha, pos2_beta, pos2_results = fama(ab_pos, -2)\n",
    "pos3_alpha, pos3_beta, pos3_results = fama(ab_pos, -3)"
   ]
  },
  {
   "cell_type": "code",
   "execution_count": 5,
   "id": "e36d9fa1-b8dd-476f-a7eb-0fe3f5311d0b",
   "metadata": {},
   "outputs": [],
   "source": [
    "d_beta = {'ABNR 1mo' : neg1_beta, 'ABNR 2mo' : neg2_beta, 'ABNR 3mo' : neg3_beta, \n",
    "          'ABPR 1mo' : pos1_beta, 'ABPR 2mo' : pos2_beta, 'ABPR 3mo' : pos3_beta}\n",
    "d_alpha = {'ABNR 1mo' : neg1_alpha, 'ABNR 2mo' : neg2_alpha, 'ABNR 3mo' : neg3_alpha, \n",
    "          'ABPR 1mo' : pos1_alpha, 'ABPR 2mo' : pos2_alpha, 'ABPR 3mo' : pos3_alpha}\n",
    "\n",
    "betas = np.mean(pd.DataFrame(data = d_beta))\n",
    "alphas = np.mean(pd.DataFrame(data = d_alpha))"
   ]
  },
  {
   "cell_type": "code",
   "execution_count": 6,
   "id": "ddd08a82-db48-40ea-bd72-e21415e30f60",
   "metadata": {},
   "outputs": [
    {
     "data": {
      "text/html": [
       "<style type=\"text/css\">\n",
       "</style>\n",
       "<table id=\"T_8643d\">\n",
       "  <caption>Fama Macbeth without Control Variables</caption>\n",
       "  <thead>\n",
       "    <tr>\n",
       "      <th class=\"blank level0\" >&nbsp;</th>\n",
       "      <th id=\"T_8643d_level0_col0\" class=\"col_heading level0 col0\" >Intercept</th>\n",
       "      <th id=\"T_8643d_level0_col1\" class=\"col_heading level0 col1\" >Beta</th>\n",
       "    </tr>\n",
       "  </thead>\n",
       "  <tbody>\n",
       "    <tr>\n",
       "      <th id=\"T_8643d_level0_row0\" class=\"row_heading level0 row0\" >ABNR 1mo</th>\n",
       "      <td id=\"T_8643d_row0_col0\" class=\"data row0 col0\" >0.046513</td>\n",
       "      <td id=\"T_8643d_row0_col1\" class=\"data row0 col1\" >0.147757</td>\n",
       "    </tr>\n",
       "    <tr>\n",
       "      <th id=\"T_8643d_level0_row1\" class=\"row_heading level0 row1\" >ABNR 2mo</th>\n",
       "      <td id=\"T_8643d_row1_col0\" class=\"data row1 col0\" >0.048533</td>\n",
       "      <td id=\"T_8643d_row1_col1\" class=\"data row1 col1\" >0.109448</td>\n",
       "    </tr>\n",
       "    <tr>\n",
       "      <th id=\"T_8643d_level0_row2\" class=\"row_heading level0 row2\" >ABNR 3mo</th>\n",
       "      <td id=\"T_8643d_row2_col0\" class=\"data row2 col0\" >0.046977</td>\n",
       "      <td id=\"T_8643d_row2_col1\" class=\"data row2 col1\" >0.139900</td>\n",
       "    </tr>\n",
       "    <tr>\n",
       "      <th id=\"T_8643d_level0_row3\" class=\"row_heading level0 row3\" >ABPR 1mo</th>\n",
       "      <td id=\"T_8643d_row3_col0\" class=\"data row3 col0\" >0.061355</td>\n",
       "      <td id=\"T_8643d_row3_col1\" class=\"data row3 col1\" >0.148461</td>\n",
       "    </tr>\n",
       "    <tr>\n",
       "      <th id=\"T_8643d_level0_row4\" class=\"row_heading level0 row4\" >ABPR 2mo</th>\n",
       "      <td id=\"T_8643d_row4_col0\" class=\"data row4 col0\" >0.062203</td>\n",
       "      <td id=\"T_8643d_row4_col1\" class=\"data row4 col1\" >0.137457</td>\n",
       "    </tr>\n",
       "    <tr>\n",
       "      <th id=\"T_8643d_level0_row5\" class=\"row_heading level0 row5\" >ABPR 3mo</th>\n",
       "      <td id=\"T_8643d_row5_col0\" class=\"data row5 col0\" >0.060225</td>\n",
       "      <td id=\"T_8643d_row5_col1\" class=\"data row5 col1\" >0.161317</td>\n",
       "    </tr>\n",
       "  </tbody>\n",
       "</table>\n"
      ],
      "text/plain": [
       "<pandas.io.formats.style.Styler at 0x1f62f418730>"
      ]
     },
     "execution_count": 6,
     "metadata": {},
     "output_type": "execute_result"
    }
   ],
   "source": [
    "results_no_control = pd.concat([alphas.rename('Intercept'), betas.rename('Beta')], axis = 1)\n",
    "results_no_control.style.set_caption(\"Fama Macbeth without Control Variables\")"
   ]
  },
  {
   "cell_type": "code",
   "execution_count": 8,
   "id": "20d74a80-af68-480b-aa41-5d35a1c5b66e",
   "metadata": {},
   "outputs": [],
   "source": [
    "ret_co_m = pd.read_csv('variable_results/sp500/filtered_ret_co_m.csv')\n",
    "ret_oc_m = pd.read_csv('variable_results/sp500/filtered_ret_oc_m.csv')\n",
    "\n",
    "def correct_format(var):\n",
    "    var['Unnamed: 0'] = pd.to_datetime(pd.to_datetime(var['Unnamed: 0']).dt.strftime('%Y-%m'))\n",
    "    var = var.set_index('Unnamed: 0')\n",
    "    var = var.reindex(sorted(var.columns), axis=1)\n",
    "    return var\n",
    "\n",
    "ret_co_m = correct_format(ret_co_m)\n",
    "ret_oc_m = correct_format(ret_oc_m)"
   ]
  },
  {
   "cell_type": "code",
   "execution_count": 9,
   "id": "56f87aad-fef7-4ba1-84f7-08a6da7c6816",
   "metadata": {},
   "outputs": [],
   "source": [
    "controls = []\n",
    "\n",
    "for ticker in size:\n",
    "    data = pd.DataFrame()\n",
    "    data['close to open'] = ret_co_m[ticker]\n",
    "    data['open to close'] = ret_oc_m[ticker]\n",
    "    controls.append(data)"
   ]
  },
  {
   "cell_type": "code",
   "execution_count": 10,
   "id": "cfba288f-99af-433d-8802-5af43fed9c7a",
   "metadata": {},
   "outputs": [],
   "source": [
    "neg1_alpha_c, neg1_beta_c, neg1_results_c = fama(ab_neg, -1, controls)\n",
    "neg2_alpha_c, neg2_beta_c, neg2_results_c = fama(ab_neg, -2, controls)\n",
    "neg3_alpha_c, neg3_beta_c, neg3_results_c = fama(ab_neg, -3, controls)\n",
    "pos1_alpha_c, pos1_beta_c, pos1_results_c = fama(ab_pos, -1, controls)\n",
    "pos2_alpha_c, pos2_beta_c, pos2_results_c = fama(ab_pos, -2, controls)\n",
    "pos3_alpha_c, pos3_beta_c, pos3_results_c = fama(ab_pos, -3, controls)"
   ]
  },
  {
   "cell_type": "code",
   "execution_count": 11,
   "id": "b8948ff6-7f66-444f-8208-67f5e0e3d5da",
   "metadata": {},
   "outputs": [],
   "source": [
    "d_beta_c = {'ABNR 1mo' : neg1_beta_c, 'ABNR 2mo' : neg2_beta_c, 'ABNR 3mo' : neg3_beta_c, \n",
    "          'ABPR 1mo' : pos1_beta_c, 'ABPR 2mo' : pos2_beta_c, 'ABPR 3mo' : pos3_beta_c}\n",
    "d_alpha_c = {'ABNR 1mo' : neg1_alpha_c, 'ABNR 2mo' : neg2_alpha_c, 'ABNR 3mo' : neg3_alpha_c, \n",
    "          'ABPR 1mo' : pos1_alpha_c, 'ABPR 2mo' : pos2_alpha_c, 'ABPR 3mo' : pos3_alpha_c}\n",
    "\n",
    "betas_c = np.mean(pd.DataFrame(data = d_beta_c))\n",
    "alphas_c = np.mean(pd.DataFrame(data = d_alpha_c))"
   ]
  },
  {
   "cell_type": "code",
   "execution_count": 12,
   "id": "22d55f85-cf0e-4f3e-b28b-946b1aa75082",
   "metadata": {},
   "outputs": [
    {
     "data": {
      "text/html": [
       "<style type=\"text/css\">\n",
       "</style>\n",
       "<table id=\"T_3a92f\">\n",
       "  <caption>Fama Macbeth with Control Variables</caption>\n",
       "  <thead>\n",
       "    <tr>\n",
       "      <th class=\"blank level0\" >&nbsp;</th>\n",
       "      <th id=\"T_3a92f_level0_col0\" class=\"col_heading level0 col0\" >Intercept</th>\n",
       "      <th id=\"T_3a92f_level0_col1\" class=\"col_heading level0 col1\" >Beta</th>\n",
       "    </tr>\n",
       "  </thead>\n",
       "  <tbody>\n",
       "    <tr>\n",
       "      <th id=\"T_3a92f_level0_row0\" class=\"row_heading level0 row0\" >ABNR 1mo</th>\n",
       "      <td id=\"T_3a92f_row0_col0\" class=\"data row0 col0\" >0.045167</td>\n",
       "      <td id=\"T_3a92f_row0_col1\" class=\"data row0 col1\" >0.170655</td>\n",
       "    </tr>\n",
       "    <tr>\n",
       "      <th id=\"T_3a92f_level0_row1\" class=\"row_heading level0 row1\" >ABNR 2mo</th>\n",
       "      <td id=\"T_3a92f_row1_col0\" class=\"data row1 col0\" >0.047404</td>\n",
       "      <td id=\"T_3a92f_row1_col1\" class=\"data row1 col1\" >0.133700</td>\n",
       "    </tr>\n",
       "    <tr>\n",
       "      <th id=\"T_3a92f_level0_row2\" class=\"row_heading level0 row2\" >ABNR 3mo</th>\n",
       "      <td id=\"T_3a92f_row2_col0\" class=\"data row2 col0\" >0.046164</td>\n",
       "      <td id=\"T_3a92f_row2_col1\" class=\"data row2 col1\" >0.158718</td>\n",
       "    </tr>\n",
       "    <tr>\n",
       "      <th id=\"T_3a92f_level0_row3\" class=\"row_heading level0 row3\" >ABPR 1mo</th>\n",
       "      <td id=\"T_3a92f_row3_col0\" class=\"data row3 col0\" >0.059434</td>\n",
       "      <td id=\"T_3a92f_row3_col1\" class=\"data row3 col1\" >0.168601</td>\n",
       "    </tr>\n",
       "    <tr>\n",
       "      <th id=\"T_3a92f_level0_row4\" class=\"row_heading level0 row4\" >ABPR 2mo</th>\n",
       "      <td id=\"T_3a92f_row4_col0\" class=\"data row4 col0\" >0.060013</td>\n",
       "      <td id=\"T_3a92f_row4_col1\" class=\"data row4 col1\" >0.163937</td>\n",
       "    </tr>\n",
       "    <tr>\n",
       "      <th id=\"T_3a92f_level0_row5\" class=\"row_heading level0 row5\" >ABPR 3mo</th>\n",
       "      <td id=\"T_3a92f_row5_col0\" class=\"data row5 col0\" >0.057830</td>\n",
       "      <td id=\"T_3a92f_row5_col1\" class=\"data row5 col1\" >0.187805</td>\n",
       "    </tr>\n",
       "  </tbody>\n",
       "</table>\n"
      ],
      "text/plain": [
       "<pandas.io.formats.style.Styler at 0x1f6314e37f0>"
      ]
     },
     "execution_count": 12,
     "metadata": {},
     "output_type": "execute_result"
    }
   ],
   "source": [
    "results_w_control = pd.concat([alphas_c.rename('Intercept'), betas_c.rename('Beta')], axis = 1)\n",
    "results_w_control.style.set_caption(\"Fama Macbeth with Control Variables\")"
   ]
  },
  {
   "cell_type": "code",
   "execution_count": null,
   "id": "5ca1115b-b7f4-4269-94cc-85c8d7280bdd",
   "metadata": {},
   "outputs": [],
   "source": []
  },
  {
   "cell_type": "code",
   "execution_count": null,
   "id": "bcc77c48-b166-46d5-8975-343e0c904ad7",
   "metadata": {},
   "outputs": [],
   "source": []
  }
 ],
 "metadata": {
  "kernelspec": {
   "display_name": "Python 3 (ipykernel)",
   "language": "python",
   "name": "python3"
  },
  "language_info": {
   "codemirror_mode": {
    "name": "ipython",
    "version": 3
   },
   "file_extension": ".py",
   "mimetype": "text/x-python",
   "name": "python",
   "nbconvert_exporter": "python",
   "pygments_lexer": "ipython3",
   "version": "3.10.13"
  }
 },
 "nbformat": 4,
 "nbformat_minor": 5
}
